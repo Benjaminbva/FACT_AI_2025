{
 "cells": [
  {
   "cell_type": "code",
   "execution_count": 1,
   "metadata": {},
   "outputs": [
    {
     "name": "stderr",
     "output_type": "stream",
     "text": [
      "/tmp/ipykernel_22609/25116253.py:10: UserWarning: out\n",
      "  warnings.warn(\"out\")\n"
     ]
    }
   ],
   "source": [
    "%load_ext autoreload\n",
    "%autoreload 2\n",
    "from gnnboundary import *\n",
    "from gnnboundary.datasets.msrc_dataset import MSRCDataset\n",
    "from lib.gcn_classifier import MultiGCNClassifier\n",
    "import torch\n",
    "import numpy as np\n",
    "import warnings\n",
    "from lib.boundary_thickness import boundary_thickness\n",
    "warnings.warn(\"out\")"
   ]
  },
  {
   "cell_type": "code",
   "execution_count": 2,
   "metadata": {},
   "outputs": [
    {
     "name": "stderr",
     "output_type": "stream",
     "text": [
      "Using existing file MSRC_9.zip\n",
      "Extracting data/MSRC_9/raw/MSRC_9.zip\n"
     ]
    }
   ],
   "source": [
    "dataset = MSRCDataset(seed=12345)"
   ]
  },
  {
   "cell_type": "code",
   "execution_count": 3,
   "metadata": {},
   "outputs": [
    {
     "data": {
      "text/plain": [
       "<All keys matched successfully>"
      ]
     },
     "execution_count": 3,
     "metadata": {},
     "output_type": "execute_result"
    }
   ],
   "source": [
    "model = MultiGCNClassifier(node_features=len(dataset.NODE_CLS),\n",
    "                             num_classes=len(dataset.GRAPH_CLS),\n",
    "                             hidden_channels=16,\n",
    "                             num_layers=5)\n",
    "model.load_state_dict(torch.load('ckpts/msrc_9.pt'))"
   ]
  },
  {
   "cell_type": "code",
   "execution_count": 4,
   "metadata": {},
   "outputs": [
    {
     "name": "stderr",
     "output_type": "stream",
     "text": [
      "/home/gilian/miniconda3/envs/gnnboundary/lib/python3.11/site-packages/torch_geometric/deprecation.py:26: UserWarning: 'data.DataLoader' is deprecated, use 'loader.DataLoader' instead\n",
      "  warnings.warn(out)\n"
     ]
    },
    {
     "name": "stdout",
     "output_type": "stream",
     "text": [
      "accuracy: 0.9638009071350098\n"
     ]
    }
   ],
   "source": [
    "from torchmetrics import F1Score, ConfusionMatrix, Accuracy\n",
    "device = torch.device('cuda:0' if torch.cuda.is_available() else 'cpu')\n",
    "acc = Accuracy(task=\"multiclass\", num_classes=len(dataset.GRAPH_CLS)).to(device)\n",
    "\n",
    "for batch in dataset.loader(batch_size=16, shuffle=False):\n",
    "    acc(model(batch)['logits'].to(device), batch.y.to(device))\n",
    "\n",
    "x = acc.compute().item()\n",
    "print(f'accuracy: {x}')"
   ]
  },
  {
   "cell_type": "code",
   "execution_count": 5,
   "metadata": {},
   "outputs": [
    {
     "name": "stdout",
     "output_type": "stream",
     "text": [
      "[MSRCDataset(16), MSRCDataset(30), MSRCDataset(31), MSRCDataset(30), MSRCDataset(25), MSRCDataset(30), MSRCDataset(29), MSRCDataset(30)]\n",
      "[MSRCDataset(19), MSRCDataset(30), MSRCDataset(30), MSRCDataset(30), MSRCDataset(23), MSRCDataset(30), MSRCDataset(29), MSRCDataset(30)]\n"
     ]
    },
    {
     "name": "stderr",
     "output_type": "stream",
     "text": [
      "/home/gilian/miniconda3/envs/gnnboundary/lib/python3.11/site-packages/torch_geometric/data/in_memory_dataset.py:300: UserWarning: It is not recommended to directly access the internal storage format `data` of an 'InMemoryDataset'. The data of the dataset is already cached, so any modifications to `data` will not be reflected when accessing its elements. Clearing the cache now by removing all elements in `dataset._data_list`. If you are absolutely certain what you are doing, access the internal storage via `InMemoryDataset._data` instead to suppress this warning. Alternatively, you can access stacked individual attributes of every graph via `dataset.{attr_name}`.\n",
      "  warnings.warn(msg)\n",
      "/home/gilian/miniconda3/envs/gnnboundary/lib/python3.11/site-packages/torch_geometric/data/in_memory_dataset.py:300: UserWarning: It is not recommended to directly access the internal storage format `data` of an 'InMemoryDataset'. If you are absolutely certain what you are doing, access the internal storage via `InMemoryDataset._data` instead to suppress this warning. Alternatively, you can access stacked individual attributes of every graph via `dataset.{attr_name}`.\n",
      "  warnings.warn(msg)\n"
     ]
    }
   ],
   "source": [
    "dataset_list_gt = dataset.split_by_class()\n",
    "dataset_list_pred = dataset.split_by_pred(model)\n",
    "print(dataset_list_pred)\n",
    "print(dataset_list_gt)"
   ]
  },
  {
   "cell_type": "code",
   "execution_count": null,
   "metadata": {},
   "outputs": [],
   "source": [
    "evaluation = dataset.model_evaluate(model)\n",
    "draw_matrix(evaluation['cm'], dataset.GRAPH_CLS.values(), fmt='d')"
   ]
  },
  {
   "cell_type": "code",
   "execution_count": 6,
   "metadata": {},
   "outputs": [],
   "source": [
    "mean_embeds = [d.model_transform(model, key=\"embeds\").mean(dim=0) for d in dataset_list_gt]"
   ]
  },
  {
   "cell_type": "code",
   "execution_count": null,
   "metadata": {},
   "outputs": [],
   "source": [
    "adj_ratio_mat, boundary_info = pairwise_boundary_analysis(model, dataset_list_pred)\n",
    "draw_matrix(adj_ratio_mat, names=dataset.GRAPH_CLS.values(), fmt='.2f', labelsize=12, annotsize=12)"
   ]
  },
  {
   "cell_type": "code",
   "execution_count": null,
   "metadata": {},
   "outputs": [],
   "source": [
    "from lib.boundary.multi_boundary_analysis import triangular_boundary_analysis\n",
    "\n",
    "result = triangular_boundary_analysis(model, dataset_list_pred, threshold=0.8)\n",
    "print(result)"
   ]
  },
  {
   "cell_type": "code",
   "execution_count": null,
   "metadata": {},
   "outputs": [],
   "source": [
    "from lib.boundary.triple_boundary_analysis import *\n",
    "\n",
    "adj_tensor, results = triplet_boundary_analysis(model, dataset_list_pred)\n",
    "res = find_top_triplets(adj_tensor)\n",
    "print(res)"
   ]
  },
  {
   "cell_type": "code",
   "execution_count": null,
   "metadata": {},
   "outputs": [],
   "source": [
    "thickness = boundary_thickness(graph_embedding, boundary_graph_embedding, model_scoring_function, c1, c2)"
   ]
  },
  {
   "cell_type": "code",
   "execution_count": 6,
   "metadata": {},
   "outputs": [],
   "source": [
    "trainer = {}\n",
    "sampler = {}\n",
    "\n",
    "from lib.trainer import GPUTrainer, NewTrainer"
   ]
  },
  {
   "cell_type": "markdown",
   "metadata": {},
   "source": [
    "# 1, 2, 5"
   ]
  },
  {
   "cell_type": "code",
   "execution_count": 23,
   "metadata": {},
   "outputs": [],
   "source": [
    "cls_1, cls_2, cls_3 = 1, 2, 7\n",
    "trainer[cls_1, cls_2, cls_3] = GPUTrainer(\n",
    "    sampler=(s := GraphSampler(\n",
    "        max_nodes=25,\n",
    "        temperature=0.15,\n",
    "        num_node_cls=len(dataset.NODE_CLS),\n",
    "        learn_node_feat=True\n",
    "    )),\n",
    "    discriminator=model,\n",
    "    criterion=WeightedCriterion([\n",
    "        dict(key=\"logits\", criterion=DynamicBalancingBoundaryCriterion(\n",
    "            classes=[cls_1, cls_2, cls_3], alpha=1, beta=1\n",
    "        ), weight=5),\n",
    "        dict(key=\"embeds\", criterion=EmbeddingCriterion(target_embedding=mean_embeds[cls_1]), weight=0),\n",
    "        dict(key=\"embeds\", criterion=EmbeddingCriterion(target_embedding=mean_embeds[cls_2]), weight=0),\n",
    "        dict(key=\"embeds\", criterion=EmbeddingCriterion(target_embedding=mean_embeds[cls_3]), weight=0),\n",
    "        dict(key=\"logits\", criterion=MeanPenalty(), weight=1),\n",
    "        dict(key=\"omega\", criterion=NormPenalty(order=1), weight=1),\n",
    "        dict(key=\"omega\", criterion=NormPenalty(order=2), weight=1),\n",
    "        # dict(key=\"xi\", criterion=NormPenalty(order=1), weight=0),\n",
    "        # dict(key=\"xi\", criterion=NormPenalty(order=2), weight=0),\n",
    "        # dict(key=\"eta\", criterion=NormPenalty(order=1), weight=0),\n",
    "        # dict(key=\"eta\", criterion=NormPenalty(order=2), weight=0),\n",
    "        dict(key=\"theta_pairs\", criterion=KLDivergencePenalty(binary=True), weight=1),\n",
    "    ]),\n",
    "    optimizer=(o := torch.optim.SGD(s.parameters(), lr=1)),\n",
    "    scheduler=torch.optim.lr_scheduler.ExponentialLR(o, gamma=1),\n",
    "    dataset=dataset,\n",
    "    budget_penalty=BudgetPenalty(budget=15, order=2, beta=1),\n",
    "    min_iteration=250\n",
    ")"
   ]
  },
  {
   "cell_type": "code",
   "execution_count": null,
   "metadata": {},
   "outputs": [
    {
     "data": {
      "application/vnd.jupyter.widget-view+json": {
       "model_id": "36f643d12eb147f4bc052b3aa580950f",
       "version_major": 2,
       "version_minor": 0
      },
      "text/plain": [
       "  0%|          | 0/2000 [00:00<?, ?it/s]"
      ]
     },
     "metadata": {},
     "output_type": "display_data"
    }
   ],
   "source": [
    "cls_1, cls_2, cls_3 = 1, 2, 7\n",
    "p_min = 0.2\n",
    "p_max = 0.433\n",
    "trainer[cls_1, cls_2, cls_3].train(\n",
    "    iterations=2000,\n",
    "    target_probs={cls_1: (p_min, p_max), cls_2: (p_min, p_max), cls_3: (p_min, p_max)},\n",
    "    target_size=50,\n",
    "    w_budget_init=1,\n",
    "    w_budget_inc=1.1,\n",
    "    w_budget_dec=0.95,\n",
    "    k_samples=32\n",
    ")"
   ]
  },
  {
   "cell_type": "code",
   "execution_count": 21,
   "metadata": {},
   "outputs": [
    {
     "name": "stdout",
     "output_type": "stream",
     "text": [
      "logits=[-58.799964904785156, -22.210250854492188, -0.8720487356185913, 19.07015037536621, -84.96865844726562, -16.718433380126953, -37.32240295410156, 5.2209272384643555]\n",
      "probs=[1.5185789074990806e-34, 1.1807237068152093e-18, 2.183797143118227e-09, 0.9999990463256836, 0.0, 2.86560272250974e-16, 3.228672839158615e-25, 9.668483471614309e-07]\n",
      "n=24 m=32\n"
     ]
    },
    {
     "data": {
      "image/png": "[encoded data removed]",
      "text/plain": [
       "<Figure size 600x600 with 1 Axes>"
      ]
     },
     "metadata": {},
     "output_type": "display_data"
    },
    {
     "data": {
      "text/plain": [
       "<networkx.classes.graph.Graph at 0x7646baa3a390>"
      ]
     },
     "execution_count": 21,
     "metadata": {},
     "output_type": "execute_result"
    }
   ],
   "source": [
    "cls_1, cls_2, cls_3 = 1, 2, 7\n",
    "\n",
    "trainer[cls_1, cls_2, cls_3].evaluate(threshold=0.5, show=True, bernoulli=False)"
   ]
  },
  {
   "cell_type": "code",
   "execution_count": 22,
   "metadata": {},
   "outputs": [
    {
     "name": "stdout",
     "output_type": "stream",
     "text": [
      "[6.81087111e-34 9.31772637e-19 1.29468672e-09 9.99998833e-01\n",
      " 2.39145596e-44 1.75087842e-15 5.97201268e-25 1.16475307e-06]\n",
      "[5.34227060e-33 3.08974745e-18 3.30572446e-09 1.43140058e-06\n",
      " 3.66282429e-43 8.45701495e-15 2.77101224e-24 1.42891594e-06]\n"
     ]
    }
   ],
   "source": [
    "res = trainer[cls_1, cls_2, cls_3].quantitative(sample_size=500)\n",
    "print(res[\"mean\"])\n",
    "print(res[\"std\"])"
   ]
  },
  {
   "cell_type": "code",
   "execution_count": null,
   "metadata": {},
   "outputs": [],
   "source": [
    "base_res = trainer[cls_1, cls_2, cls_3].quantitative_baseline()\n",
    "print(base_res[\"mean\"])\n",
    "print(base_res[\"std\"])"
   ]
  },
  {
   "cell_type": "code",
   "execution_count": 221,
   "metadata": {},
   "outputs": [],
   "source": [
    "f = open(f\"logs/quantitative_mrsc9.txt\", \"a\")\n",
    "f.write(f'converged: True\\n')\n",
    "f.write(f'c1 = {cls_1}\\n')\n",
    "f.write(f'gnnboundary mean = {res[\"mean\"][cls_1]} std = {res[\"std\"][cls_1]}\\n')\n",
    "f.write(f'baseline mean = {base_res[\"mean\"][cls_1]} std = {base_res[\"std\"][cls_1]}\\n')\n",
    "f.write(f'c2 = {cls_2}\\n')\n",
    "f.write(f'gnnboundary mean = {res[\"mean\"][cls_2]} std = {res[\"std\"][cls_2]}\\n')\n",
    "f.write(f'baseline mean = {base_res[\"mean\"][cls_2]} std = {base_res[\"std\"][cls_2]}\\n')\n",
    "f.write(f'c3 = {cls_3}\\n')\n",
    "f.write(f'gnnboundary mean = {res[\"mean\"][cls_3]} std = {res[\"std\"][cls_3]}\\n')\n",
    "f.write(f'baseline mean = {base_res[\"mean\"][cls_3]} std = {base_res[\"std\"][cls_3]}\\n\\n')\n",
    "f.close()"
   ]
  },
  {
   "cell_type": "markdown",
   "metadata": {},
   "source": [
    "# 1, 4, 5"
   ]
  },
  {
   "cell_type": "code",
   "execution_count": 78,
   "metadata": {},
   "outputs": [],
   "source": [
    "cls_1, cls_2, cls_3 = 1, 4, 5\n",
    "trainer[cls_1, cls_2, cls_3] = GPUTrainer(\n",
    "    sampler=(s := GraphSampler(\n",
    "        max_nodes=25,\n",
    "        temperature=0.2,\n",
    "        num_node_cls=len(dataset.NODE_CLS),\n",
    "        learn_node_feat=True\n",
    "    )),\n",
    "    discriminator=model,\n",
    "    criterion=WeightedCriterion([\n",
    "        dict(key=\"logits\", criterion=DynamicBalancingBoundaryCriterion(\n",
    "            classes=[cls_1, cls_2, cls_3], alpha=1, beta=1\n",
    "        ), weight=5),\n",
    "        dict(key=\"embeds\", criterion=EmbeddingCriterion(target_embedding=mean_embeds[cls_1]), weight=0),\n",
    "        dict(key=\"embeds\", criterion=EmbeddingCriterion(target_embedding=mean_embeds[cls_2]), weight=0),\n",
    "        dict(key=\"embeds\", criterion=EmbeddingCriterion(target_embedding=mean_embeds[cls_3]), weight=0),\n",
    "        dict(key=\"logits\", criterion=MeanPenalty(), weight=1),\n",
    "        dict(key=\"omega\", criterion=NormPenalty(order=1), weight=1),\n",
    "        dict(key=\"omega\", criterion=NormPenalty(order=2), weight=1),\n",
    "        # dict(key=\"xi\", criterion=NormPenalty(order=1), weight=0),\n",
    "        # dict(key=\"xi\", criterion=NormPenalty(order=2), weight=0),\n",
    "        # dict(key=\"eta\", criterion=NormPenalty(order=1), weight=0),\n",
    "        # dict(key=\"eta\", criterion=NormPenalty(order=2), weight=0),\n",
    "        dict(key=\"theta_pairs\", criterion=KLDivergencePenalty(binary=True), weight=1),\n",
    "    ]),\n",
    "    optimizer=(o := torch.optim.SGD(s.parameters(), lr=1)),\n",
    "    scheduler=torch.optim.lr_scheduler.ExponentialLR(o, gamma=1),\n",
    "    dataset=dataset,\n",
    "    budget_penalty=BudgetPenalty(budget=15, order=2, beta=1),\n",
    "    min_iteration=500\n",
    ")"
   ]
  },
  {
   "cell_type": "code",
   "execution_count": null,
   "metadata": {},
   "outputs": [],
   "source": [
    "cls_1, cls_2, cls_3 = 1, 4, 5\n",
    "p_min = 0.266\n",
    "p_max = 0.4\n",
    "trainer[cls_1, cls_2, cls_3].train(\n",
    "    iterations=2000,\n",
    "    target_probs={cls_3: (p_min, p_max), cls_2: (p_min, p_max), cls_3: (p_min, p_max)},\n",
    "    target_size=60,\n",
    "    w_budget_init=1,\n",
    "    w_budget_inc=1.1,\n",
    "    w_budget_dec=0.95,\n",
    "    k_samples=32\n",
    ")"
   ]
  },
  {
   "cell_type": "code",
   "execution_count": null,
   "metadata": {},
   "outputs": [],
   "source": [
    "cls_1, cls_2, cls_3 = 1, 4, 5\n",
    "\n",
    "trainer[cls_1, cls_2, cls_3].evaluate(threshold=0.5, show=True, bernoulli=True)"
   ]
  },
  {
   "cell_type": "code",
   "execution_count": null,
   "metadata": {},
   "outputs": [],
   "source": [
    "res = trainer[cls_1, cls_2, cls_3].quantitative(sample_size=500)\n",
    "print(res[\"mean\"])\n",
    "print(res[\"std\"])"
   ]
  },
  {
   "cell_type": "code",
   "execution_count": null,
   "metadata": {},
   "outputs": [],
   "source": [
    "base_res = trainer[cls_1, cls_2, cls_3].quantitative_baseline()"
   ]
  }
 ],
 "metadata": {
  "kernelspec": {
   "display_name": "gnnboundary",
   "language": "python",
   "name": "python3"
  },
  "language_info": {
   "codemirror_mode": {
    "name": "ipython",
    "version": 3
   },
   "file_extension": ".py",
   "mimetype": "text/x-python",
   "name": "python",
   "nbconvert_exporter": "python",
   "pygments_lexer": "ipython3",
   "version": "3.11.11"
  }
 },
 "nbformat": 4,
 "nbformat_minor": 2
}
