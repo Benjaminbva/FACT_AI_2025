{
 "cells": [
  {
   "cell_type": "code",
   "execution_count": 1,
   "id": "8c2caaab483d0a24",
   "metadata": {
    "ExecuteTime": {
     "end_time": "2024-04-21T13:40:03.841745Z",
     "start_time": "2024-04-21T13:40:03.829069Z"
    },
    "collapsed": false
   },
   "outputs": [],
   "source": [
    "%load_ext autoreload\n",
    "%autoreload 2"
   ]
  },
  {
   "cell_type": "code",
   "execution_count": 2,
   "id": "8afbbc605bb13730",
   "metadata": {
    "ExecuteTime": {
     "end_time": "2024-04-21T13:40:06.165544Z",
     "start_time": "2024-04-21T13:40:04.863950Z"
    },
    "collapsed": false
   },
   "outputs": [],
   "source": [
    "import torch\n",
    "from tqdm.auto import trange"
   ]
  },
  {
   "cell_type": "code",
   "execution_count": 3,
   "id": "97e983f9da03809c",
   "metadata": {
    "ExecuteTime": {
     "end_time": "2024-04-21T13:40:09.494587Z",
     "start_time": "2024-04-21T13:40:07.107698Z"
    }
   },
   "outputs": [],
   "source": [
    "from gnnboundary import *\n",
    "from gnnboundary.datasets.msrc_dataset import MSRCDataset\n",
    "from lib.gcn_classifier import MultiGCNClassifier"
   ]
  },
  {
   "cell_type": "markdown",
   "id": "2364be7c0ee37620",
   "metadata": {
    "collapsed": false
   },
   "source": [
    "# Motif"
   ]
  },
  {
   "cell_type": "code",
   "execution_count": 13,
   "id": "85a99f52ad4d19a3",
   "metadata": {
    "collapsed": false
   },
   "outputs": [],
   "source": [
    "motif = MotifDataset(seed=12345)\n",
    "motif_train, motif_val = motif.train_test_split(k=10)\n",
    "motif_model = GCNClassifier(node_features=len(motif.NODE_CLS),\n",
    "                            num_classes=len(motif.GRAPH_CLS),\n",
    "                            hidden_channels=6,\n",
    "                            num_layers=3)"
   ]
  },
  {
   "cell_type": "code",
   "execution_count": null,
   "id": "77849acc80fe593e",
   "metadata": {
    "collapsed": false
   },
   "outputs": [],
   "source": [
    "for epoch in trange(128):\n",
    "    train_loss = motif_train.model_fit(motif_model, lr=0.001)\n",
    "    train_metrics = motif_train.model_evaluate(motif_model)\n",
    "    val_metrics = motif_val.model_evaluate(motif_model)\n",
    "    print(f\"Epoch: {epoch:03d}, \"\n",
    "          f\"Train Loss: {train_loss:.4f}, \"\n",
    "          f\"Train Acc: {train_metrics['acc']:.4f}, \"\n",
    "          f\"Test Acc: {val_metrics['acc']:.4f}, \"\n",
    "          f\"Train F1: {train_metrics['f1']}, \"\n",
    "          f\"Test F1: {val_metrics['f1']}\")"
   ]
  },
  {
   "cell_type": "code",
   "execution_count": null,
   "id": "b2a5adde85f03d0a",
   "metadata": {
    "collapsed": false
   },
   "outputs": [],
   "source": [
    "# torch.save(motif_model.state_dict(), 'ckpts/motif.pt')"
   ]
  },
  {
   "cell_type": "code",
   "execution_count": null,
   "id": "84bc57716bc8fbc4",
   "metadata": {},
   "outputs": [],
   "source": [
    "motif_model.load_state_dict(torch.load('ckpts/motif.pt'))"
   ]
  },
  {
   "cell_type": "markdown",
   "id": "a4004532c1bb4288",
   "metadata": {
    "collapsed": false
   },
   "source": [
    "# ENZYMES"
   ]
  },
  {
   "cell_type": "code",
   "execution_count": 10,
   "id": "d021848ae3c9d3f9",
   "metadata": {
    "ExecuteTime": {
     "end_time": "2024-04-21T13:40:14.515165Z",
     "start_time": "2024-04-21T13:40:14.373827Z"
    },
    "collapsed": false
   },
   "outputs": [],
   "source": [
    "enzymes = ENZYMESDataset(seed=12345)\n",
    "enzymes_train, enzymes_val = enzymes.train_test_split(k=10)\n",
    "enzymes_model = GCNClassifier(node_features=len(enzymes.NODE_CLS),\n",
    "                              num_classes=len(enzymes.GRAPH_CLS),\n",
    "                              hidden_channels=32,\n",
    "                              num_layers=3)"
   ]
  },
  {
   "cell_type": "code",
   "execution_count": null,
   "id": "75b6d2b5b5eb7a65",
   "metadata": {
    "ExecuteTime": {
     "end_time": "2024-04-21T13:40:15.373625Z",
     "start_time": "2024-04-21T13:40:15.338801Z"
    },
    "collapsed": false
   },
   "outputs": [],
   "source": [
    "enzymes_model.load_state_dict(torch.load('ckpts/enzymes.pt'))"
   ]
  },
  {
   "cell_type": "code",
   "execution_count": null,
   "id": "f8969c7da8ee7096",
   "metadata": {
    "ExecuteTime": {
     "end_time": "2024-04-21T13:55:45.286601Z",
     "start_time": "2024-04-21T13:40:42.226062Z"
    }
   },
   "outputs": [],
   "source": [
    "for epoch in range(4096):\n",
    "    train_loss = enzymes_train.model_fit(enzymes_model, lr=0.0001)\n",
    "    train_metrics = enzymes_train.model_evaluate(enzymes_model)\n",
    "    val_metrics = enzymes_val.model_evaluate(enzymes_model)\n",
    "    print(f\"Epoch: {epoch:03d}, \"\n",
    "          f\"Train Loss: {train_loss:.4f}, \"\n",
    "          f\"Train Acc: {train_metrics['acc']:.4f}, \"\n",
    "          f\"Test Acc: {val_metrics['acc']:.4f}, \"\n",
    "          f\"Train F1: {train_metrics['f1']}, \"\n",
    "          f\"Test F1: {val_metrics['f1']}\")"
   ]
  },
  {
   "cell_type": "code",
   "execution_count": 8,
   "id": "16ab2a56b86ae8a9",
   "metadata": {
    "ExecuteTime": {
     "end_time": "2024-04-21T14:06:36.427566Z",
     "start_time": "2024-04-21T14:06:36.272892Z"
    }
   },
   "outputs": [],
   "source": [
    "torch.save(enzymes_model.state_dict(), f\"ckpts/enzymes.pt\")"
   ]
  },
  {
   "cell_type": "markdown",
   "id": "2395a28099a8dcb9",
   "metadata": {},
   "source": [
    "# COLLAB"
   ]
  },
  {
   "cell_type": "code",
   "execution_count": 8,
   "id": "2210c5e4f48fec89",
   "metadata": {
    "collapsed": false
   },
   "outputs": [],
   "source": [
    "collab = CollabDataset(seed=12345)\n",
    "collab_train, collab_val = collab.train_test_split(k=10)\n",
    "collab_model = GCNClassifier(node_features=len(collab.NODE_CLS),\n",
    "                             num_classes=len(collab.GRAPH_CLS),\n",
    "                             hidden_channels=64,\n",
    "                             num_layers=5)"
   ]
  },
  {
   "cell_type": "code",
   "execution_count": null,
   "id": "5e26c08ec23c9fe4",
   "metadata": {},
   "outputs": [],
   "source": [
    "for epoch in trange(1024):\n",
    "    train_loss = collab_train.model_fit(collab_model, lr=0.001)\n",
    "    train_metrics = collab_train.model_evaluate(collab_model)\n",
    "    val_metrics = collab_val.model_evaluate(collab_model)\n",
    "    print(f\"Epoch: {epoch:03d}, \"\n",
    "          f\"Train Loss: {train_loss:.4f}, \"\n",
    "          f\"Train Acc: {train_metrics['acc']:.4f}, \"\n",
    "          f\"Test Acc: {val_metrics['acc']:.4f}, \"\n",
    "          f\"Train F1: {train_metrics['f1']}, \"\n",
    "          f\"Test F1: {val_metrics['f1']}\")"
   ]
  },
  {
   "cell_type": "code",
   "execution_count": null,
   "id": "4e5b2a3fba9d8b8",
   "metadata": {},
   "outputs": [],
   "source": [
    "# torch.save(collab_model.state_dict(), f\"ckpts/collab.pt\")"
   ]
  },
  {
   "cell_type": "code",
   "execution_count": null,
   "id": "fadb9cc425025692",
   "metadata": {},
   "outputs": [],
   "source": [
    "collab_model.load_state_dict(torch.load('ckpts/collab.pt'))"
   ]
  },
  {
   "cell_type": "markdown",
   "id": "d8df72be",
   "metadata": {},
   "source": [
    "# MSRC_9"
   ]
  },
  {
   "cell_type": "code",
   "execution_count": 6,
   "id": "d699936d9d401a27",
   "metadata": {},
   "outputs": [
    {
     "name": "stdout",
     "output_type": "stream",
     "text": [
      "cuda:0\n"
     ]
    },
    {
     "name": "stderr",
     "output_type": "stream",
     "text": [
      "Using existing file MSRC_9.zip\n",
      "Extracting data/MSRC_9/raw/MSRC_9.zip\n"
     ]
    }
   ],
   "source": [
    "import torch\n",
    "from tqdm.auto import trange\n",
    "from gnnboundary import *\n",
    "from gnnboundary.datasets.msrc_dataset import MSRCDataset\n",
    "from lib.gcn_classifier import MultiGCNClassifier\n",
    "\n",
    "device = torch.device('cuda:0' if torch.cuda.is_available() else 'cpu')\n",
    "\n",
    "msrc9 = MSRCDataset(seed=12345).to(device)\n",
    "msrc9_train, msrc9_val = msrc9.train_test_split(k=10)\n",
    "msrc9_model = MultiGCNClassifier(node_features=len(msrc9.NODE_CLS),\n",
    "                             num_classes=len(msrc9.GRAPH_CLS),\n",
    "                             hidden_channels=8,\n",
    "                             num_layers=3).to(device)\n",
    "\n",
    "print(device)"
   ]
  },
  {
   "cell_type": "code",
   "execution_count": 7,
   "id": "85687efb",
   "metadata": {},
   "outputs": [
    {
     "data": {
      "application/vnd.jupyter.widget-view+json": {
       "model_id": "abae0d94bfda44829e389e027e41d445",
       "version_major": 2,
       "version_minor": 0
      },
      "text/plain": [
       "  0%|          | 0/256 [00:00<?, ?it/s]"
      ]
     },
     "metadata": {},
     "output_type": "display_data"
    },
    {
     "name": "stdout",
     "output_type": "stream",
     "text": [
      "Epoch: 000, Train Loss: 2.2735, Train Acc: 0.1457, Test Acc: 0.1364, \n",
      "Epoch: 001, Train Loss: 2.1090, Train Acc: 0.2111, Test Acc: 0.1364, \n",
      "Epoch: 002, Train Loss: 2.0197, Train Acc: 0.3266, Test Acc: 0.1818, \n",
      "Epoch: 003, Train Loss: 1.9923, Train Acc: 0.3015, Test Acc: 0.2273, \n",
      "Epoch: 004, Train Loss: 1.9144, Train Acc: 0.3116, Test Acc: 0.2273, \n",
      "Epoch: 005, Train Loss: 1.8734, Train Acc: 0.2915, Test Acc: 0.2273, \n",
      "Epoch: 006, Train Loss: 1.8573, Train Acc: 0.2915, Test Acc: 0.2273, \n",
      "Epoch: 007, Train Loss: 1.7680, Train Acc: 0.2714, Test Acc: 0.2273, \n",
      "Epoch: 008, Train Loss: 1.8182, Train Acc: 0.2714, Test Acc: 0.2273, \n",
      "Epoch: 009, Train Loss: 1.7589, Train Acc: 0.2714, Test Acc: 0.2273, \n",
      "Epoch: 010, Train Loss: 1.7078, Train Acc: 0.2714, Test Acc: 0.2273, \n",
      "Epoch: 011, Train Loss: 1.7163, Train Acc: 0.2613, Test Acc: 0.2273, \n",
      "Epoch: 012, Train Loss: 1.5546, Train Acc: 0.2613, Test Acc: 0.2273, \n",
      "Epoch: 013, Train Loss: 1.6112, Train Acc: 0.2814, Test Acc: 0.2273, \n",
      "Epoch: 014, Train Loss: 1.6145, Train Acc: 0.3065, Test Acc: 0.2727, \n",
      "Epoch: 015, Train Loss: 1.5302, Train Acc: 0.4020, Test Acc: 0.3182, \n",
      "Epoch: 016, Train Loss: 1.5435, Train Acc: 0.4271, Test Acc: 0.3182, \n",
      "Epoch: 017, Train Loss: 1.4648, Train Acc: 0.4221, Test Acc: 0.3182, \n",
      "Epoch: 018, Train Loss: 1.4424, Train Acc: 0.4422, Test Acc: 0.3636, \n",
      "Epoch: 019, Train Loss: 1.4483, Train Acc: 0.4774, Test Acc: 0.4091, \n",
      "Epoch: 020, Train Loss: 1.3737, Train Acc: 0.4874, Test Acc: 0.4091, \n",
      "Epoch: 021, Train Loss: 1.3505, Train Acc: 0.4975, Test Acc: 0.4545, \n",
      "Epoch: 022, Train Loss: 1.3304, Train Acc: 0.5126, Test Acc: 0.5000, \n",
      "Epoch: 023, Train Loss: 1.3251, Train Acc: 0.5226, Test Acc: 0.5000, \n",
      "Epoch: 024, Train Loss: 1.2410, Train Acc: 0.5327, Test Acc: 0.5000, \n",
      "Epoch: 025, Train Loss: 1.2463, Train Acc: 0.5528, Test Acc: 0.5000, \n",
      "Epoch: 026, Train Loss: 1.1771, Train Acc: 0.5628, Test Acc: 0.5000, \n",
      "Epoch: 027, Train Loss: 1.1661, Train Acc: 0.5879, Test Acc: 0.5000, \n",
      "Epoch: 028, Train Loss: 1.1833, Train Acc: 0.5829, Test Acc: 0.5000, \n",
      "Epoch: 029, Train Loss: 1.0751, Train Acc: 0.6030, Test Acc: 0.5000, \n",
      "Epoch: 030, Train Loss: 1.0042, Train Acc: 0.6231, Test Acc: 0.5000, \n",
      "Epoch: 031, Train Loss: 1.0134, Train Acc: 0.6281, Test Acc: 0.5000, \n",
      "Epoch: 032, Train Loss: 0.9873, Train Acc: 0.6382, Test Acc: 0.5000, \n",
      "Epoch: 033, Train Loss: 0.8733, Train Acc: 0.6633, Test Acc: 0.5455, \n",
      "Epoch: 034, Train Loss: 0.8610, Train Acc: 0.6633, Test Acc: 0.5455, \n",
      "Epoch: 035, Train Loss: 0.7969, Train Acc: 0.6985, Test Acc: 0.5909, \n",
      "Epoch: 036, Train Loss: 0.7961, Train Acc: 0.7085, Test Acc: 0.5909, \n",
      "Epoch: 037, Train Loss: 0.7391, Train Acc: 0.7035, Test Acc: 0.5909, \n",
      "Epoch: 038, Train Loss: 0.7028, Train Acc: 0.7136, Test Acc: 0.5909, \n",
      "Epoch: 039, Train Loss: 0.7300, Train Acc: 0.7136, Test Acc: 0.5909, \n",
      "Epoch: 040, Train Loss: 0.6505, Train Acc: 0.7236, Test Acc: 0.6364, \n",
      "Epoch: 041, Train Loss: 0.6198, Train Acc: 0.7337, Test Acc: 0.6364, \n",
      "Epoch: 042, Train Loss: 0.5528, Train Acc: 0.7337, Test Acc: 0.6364, \n",
      "Epoch: 043, Train Loss: 0.5527, Train Acc: 0.7487, Test Acc: 0.6364, \n",
      "Epoch: 044, Train Loss: 0.5617, Train Acc: 0.7588, Test Acc: 0.5909, \n",
      "Epoch: 045, Train Loss: 0.4945, Train Acc: 0.7387, Test Acc: 0.6364, \n",
      "Epoch: 046, Train Loss: 0.5594, Train Acc: 0.7588, Test Acc: 0.6364, \n",
      "Epoch: 047, Train Loss: 0.4673, Train Acc: 0.7588, Test Acc: 0.6364, \n",
      "Epoch: 048, Train Loss: 0.4472, Train Acc: 0.7688, Test Acc: 0.6818, \n",
      "Epoch: 049, Train Loss: 0.4694, Train Acc: 0.7789, Test Acc: 0.6364, \n",
      "Epoch: 050, Train Loss: 0.4445, Train Acc: 0.7688, Test Acc: 0.6364, \n",
      "Epoch: 051, Train Loss: 0.4382, Train Acc: 0.7839, Test Acc: 0.7273, \n",
      "Epoch: 052, Train Loss: 0.3987, Train Acc: 0.7940, Test Acc: 0.7727, \n",
      "Epoch: 053, Train Loss: 0.4394, Train Acc: 0.7889, Test Acc: 0.7727, \n",
      "Epoch: 054, Train Loss: 0.4310, Train Acc: 0.7990, Test Acc: 0.7273, \n",
      "Epoch: 055, Train Loss: 0.4041, Train Acc: 0.8141, Test Acc: 0.7273, \n",
      "Epoch: 056, Train Loss: 0.4101, Train Acc: 0.8191, Test Acc: 0.8182, \n",
      "Epoch: 057, Train Loss: 0.3824, Train Acc: 0.8442, Test Acc: 0.8182, \n",
      "Epoch: 058, Train Loss: 0.3978, Train Acc: 0.8543, Test Acc: 0.7273, \n",
      "Epoch: 059, Train Loss: 0.3734, Train Acc: 0.8995, Test Acc: 0.8182, \n",
      "Epoch: 060, Train Loss: 0.3925, Train Acc: 0.8844, Test Acc: 0.8636, \n",
      "Epoch: 061, Train Loss: 0.3625, Train Acc: 0.9045, Test Acc: 0.8636, \n",
      "Epoch: 062, Train Loss: 0.3378, Train Acc: 0.8995, Test Acc: 0.8636, \n",
      "Epoch: 063, Train Loss: 0.3370, Train Acc: 0.8995, Test Acc: 0.8182, \n",
      "Epoch: 064, Train Loss: 0.3237, Train Acc: 0.9045, Test Acc: 0.9091, \n",
      "Epoch: 065, Train Loss: 0.3598, Train Acc: 0.9196, Test Acc: 0.8636, \n",
      "Epoch: 066, Train Loss: 0.3074, Train Acc: 0.9196, Test Acc: 0.8636, \n",
      "Epoch: 067, Train Loss: 0.3056, Train Acc: 0.9196, Test Acc: 0.8636, \n",
      "Epoch: 068, Train Loss: 0.2685, Train Acc: 0.9146, Test Acc: 0.8636, \n",
      "Epoch: 069, Train Loss: 0.2762, Train Acc: 0.9296, Test Acc: 0.8636, \n",
      "Epoch: 070, Train Loss: 0.2641, Train Acc: 0.9246, Test Acc: 0.8636, \n",
      "Epoch: 071, Train Loss: 0.2483, Train Acc: 0.9196, Test Acc: 0.8636, \n",
      "Epoch: 072, Train Loss: 0.2328, Train Acc: 0.9196, Test Acc: 0.8636, \n",
      "Epoch: 073, Train Loss: 0.2598, Train Acc: 0.9296, Test Acc: 0.8636, \n",
      "Epoch: 074, Train Loss: 0.2296, Train Acc: 0.9347, Test Acc: 0.8636, \n",
      "Epoch: 075, Train Loss: 0.2469, Train Acc: 0.9397, Test Acc: 0.8636, \n",
      "Epoch: 076, Train Loss: 0.2698, Train Acc: 0.9246, Test Acc: 0.8636, \n",
      "Epoch: 077, Train Loss: 0.2140, Train Acc: 0.9196, Test Acc: 0.8636, \n",
      "Epoch: 078, Train Loss: 0.2264, Train Acc: 0.9246, Test Acc: 0.8636, \n",
      "Epoch: 079, Train Loss: 0.2259, Train Acc: 0.9196, Test Acc: 0.9091, \n",
      "Epoch: 080, Train Loss: 0.2087, Train Acc: 0.9296, Test Acc: 0.8636, \n",
      "Epoch: 081, Train Loss: 0.1930, Train Acc: 0.9397, Test Acc: 0.8636, \n",
      "Epoch: 082, Train Loss: 0.2049, Train Acc: 0.9447, Test Acc: 0.8636, \n",
      "Epoch: 083, Train Loss: 0.1839, Train Acc: 0.9397, Test Acc: 0.8636, \n",
      "Epoch: 084, Train Loss: 0.1780, Train Acc: 0.9246, Test Acc: 0.8636, \n",
      "Epoch: 085, Train Loss: 0.1832, Train Acc: 0.9196, Test Acc: 0.9091, \n",
      "Epoch: 086, Train Loss: 0.2067, Train Acc: 0.9246, Test Acc: 0.9091, \n",
      "Epoch: 087, Train Loss: 0.1933, Train Acc: 0.9447, Test Acc: 0.8636, \n",
      "Epoch: 088, Train Loss: 0.1717, Train Acc: 0.9296, Test Acc: 0.8636, \n",
      "Epoch: 089, Train Loss: 0.1646, Train Acc: 0.9397, Test Acc: 0.8636, \n",
      "Epoch: 090, Train Loss: 0.1523, Train Acc: 0.9447, Test Acc: 0.8636, \n",
      "Epoch: 091, Train Loss: 0.1777, Train Acc: 0.9548, Test Acc: 0.8636, \n",
      "Epoch: 092, Train Loss: 0.1470, Train Acc: 0.9548, Test Acc: 0.8636, \n",
      "Epoch: 093, Train Loss: 0.1562, Train Acc: 0.9548, Test Acc: 0.8636, \n",
      "Epoch: 094, Train Loss: 0.1571, Train Acc: 0.9548, Test Acc: 0.8636, \n",
      "Epoch: 095, Train Loss: 0.1586, Train Acc: 0.9447, Test Acc: 0.8636, \n",
      "Epoch: 096, Train Loss: 0.1556, Train Acc: 0.9497, Test Acc: 0.8636, \n",
      "Epoch: 097, Train Loss: 0.1421, Train Acc: 0.9548, Test Acc: 0.8636, \n",
      "Epoch: 098, Train Loss: 0.1576, Train Acc: 0.9548, Test Acc: 0.8636, \n",
      "Epoch: 099, Train Loss: 0.1430, Train Acc: 0.9447, Test Acc: 0.8636, \n",
      "Epoch: 100, Train Loss: 0.1621, Train Acc: 0.9548, Test Acc: 0.8636, \n",
      "Epoch: 101, Train Loss: 0.1410, Train Acc: 0.9347, Test Acc: 0.9091, \n",
      "Epoch: 102, Train Loss: 0.1468, Train Acc: 0.9548, Test Acc: 0.8636, \n",
      "Epoch: 103, Train Loss: 0.1409, Train Acc: 0.9548, Test Acc: 0.8636, \n",
      "Epoch: 104, Train Loss: 0.1274, Train Acc: 0.9497, Test Acc: 0.8636, \n",
      "Epoch: 105, Train Loss: 0.1316, Train Acc: 0.9397, Test Acc: 0.9091, \n",
      "Epoch: 106, Train Loss: 0.1292, Train Acc: 0.9497, Test Acc: 0.8636, \n",
      "Epoch: 107, Train Loss: 0.1204, Train Acc: 0.9397, Test Acc: 0.8636, \n",
      "Epoch: 108, Train Loss: 0.1459, Train Acc: 0.9497, Test Acc: 0.8636, \n",
      "Epoch: 109, Train Loss: 0.1335, Train Acc: 0.9548, Test Acc: 0.8636, \n",
      "Epoch: 110, Train Loss: 0.1254, Train Acc: 0.9548, Test Acc: 0.8636, \n",
      "Epoch: 111, Train Loss: 0.1163, Train Acc: 0.9447, Test Acc: 0.8636, \n",
      "Epoch: 112, Train Loss: 0.1155, Train Acc: 0.9497, Test Acc: 0.8636, \n",
      "Epoch: 113, Train Loss: 0.1462, Train Acc: 0.9397, Test Acc: 0.8636, \n",
      "Epoch: 114, Train Loss: 0.1269, Train Acc: 0.9447, Test Acc: 0.8636, \n",
      "Epoch: 115, Train Loss: 0.1474, Train Acc: 0.9548, Test Acc: 0.8636, \n",
      "Epoch: 116, Train Loss: 0.1214, Train Acc: 0.9497, Test Acc: 0.8636, \n",
      "Epoch: 117, Train Loss: 0.1255, Train Acc: 0.9497, Test Acc: 0.8636, \n",
      "Epoch: 118, Train Loss: 0.1110, Train Acc: 0.9447, Test Acc: 0.8636, \n",
      "Epoch: 119, Train Loss: 0.1243, Train Acc: 0.9397, Test Acc: 0.8636, \n",
      "Epoch: 120, Train Loss: 0.1448, Train Acc: 0.9497, Test Acc: 0.8636, \n",
      "Epoch: 121, Train Loss: 0.1092, Train Acc: 0.9548, Test Acc: 0.8636, \n",
      "Epoch: 122, Train Loss: 0.1185, Train Acc: 0.9497, Test Acc: 0.8636, \n",
      "Epoch: 123, Train Loss: 0.1115, Train Acc: 0.9548, Test Acc: 0.8636, \n",
      "Epoch: 124, Train Loss: 0.1074, Train Acc: 0.9598, Test Acc: 0.8636, \n",
      "Epoch: 125, Train Loss: 0.1032, Train Acc: 0.9548, Test Acc: 0.8636, \n",
      "Epoch: 126, Train Loss: 0.1329, Train Acc: 0.9497, Test Acc: 0.8636, \n",
      "Epoch: 127, Train Loss: 0.1067, Train Acc: 0.9548, Test Acc: 0.8636, \n",
      "Epoch: 128, Train Loss: 0.1185, Train Acc: 0.9548, Test Acc: 0.8636, \n",
      "Epoch: 129, Train Loss: 0.1074, Train Acc: 0.9497, Test Acc: 0.8636, \n",
      "Epoch: 130, Train Loss: 0.1278, Train Acc: 0.9598, Test Acc: 0.8636, \n",
      "Epoch: 131, Train Loss: 0.1019, Train Acc: 0.9497, Test Acc: 0.8636, \n",
      "Epoch: 132, Train Loss: 0.1169, Train Acc: 0.9548, Test Acc: 0.8636, \n",
      "Epoch: 133, Train Loss: 0.1397, Train Acc: 0.9548, Test Acc: 0.8636, \n",
      "Epoch: 134, Train Loss: 0.1085, Train Acc: 0.9447, Test Acc: 0.9091, \n",
      "Epoch: 135, Train Loss: 0.1093, Train Acc: 0.9497, Test Acc: 0.8636, \n",
      "Epoch: 136, Train Loss: 0.1007, Train Acc: 0.9598, Test Acc: 0.8636, \n",
      "Epoch: 137, Train Loss: 0.1054, Train Acc: 0.9497, Test Acc: 0.9091, \n",
      "Epoch: 138, Train Loss: 0.1054, Train Acc: 0.9598, Test Acc: 0.8636, \n",
      "Epoch: 139, Train Loss: 0.0944, Train Acc: 0.9497, Test Acc: 0.8636, \n",
      "Epoch: 140, Train Loss: 0.0940, Train Acc: 0.9497, Test Acc: 0.8636, \n",
      "Epoch: 141, Train Loss: 0.0930, Train Acc: 0.9447, Test Acc: 0.9091, \n",
      "Epoch: 142, Train Loss: 0.1083, Train Acc: 0.9548, Test Acc: 0.8636, \n",
      "Epoch: 143, Train Loss: 0.1611, Train Acc: 0.9497, Test Acc: 0.9091, \n",
      "Epoch: 144, Train Loss: 0.0883, Train Acc: 0.9497, Test Acc: 0.9091, \n",
      "Epoch: 145, Train Loss: 0.0908, Train Acc: 0.9548, Test Acc: 0.8636, \n",
      "Epoch: 146, Train Loss: 0.0949, Train Acc: 0.9548, Test Acc: 0.9091, \n",
      "Epoch: 147, Train Loss: 0.1104, Train Acc: 0.9598, Test Acc: 0.9091, \n",
      "Epoch: 148, Train Loss: 0.0997, Train Acc: 0.9447, Test Acc: 0.9545, \n",
      "Epoch: 149, Train Loss: 0.1056, Train Acc: 0.9598, Test Acc: 0.9091, \n",
      "Epoch: 150, Train Loss: 0.0938, Train Acc: 0.9598, Test Acc: 0.9091, \n",
      "Epoch: 151, Train Loss: 0.1177, Train Acc: 0.9598, Test Acc: 0.9091, \n",
      "Epoch: 152, Train Loss: 0.0962, Train Acc: 0.9497, Test Acc: 0.8636, \n",
      "Epoch: 153, Train Loss: 0.1003, Train Acc: 0.9497, Test Acc: 0.9091, \n",
      "Epoch: 154, Train Loss: 0.1072, Train Acc: 0.9548, Test Acc: 0.8636, \n",
      "Epoch: 155, Train Loss: 0.0970, Train Acc: 0.9548, Test Acc: 0.8636, \n",
      "Epoch: 156, Train Loss: 0.0923, Train Acc: 0.9497, Test Acc: 0.9091, \n",
      "Epoch: 157, Train Loss: 0.0833, Train Acc: 0.9497, Test Acc: 0.9091, \n",
      "Epoch: 158, Train Loss: 0.0978, Train Acc: 0.9497, Test Acc: 0.9091, \n",
      "Epoch: 159, Train Loss: 0.0939, Train Acc: 0.9548, Test Acc: 0.9091, \n",
      "Epoch: 160, Train Loss: 0.0836, Train Acc: 0.9548, Test Acc: 0.9091, \n",
      "Epoch: 161, Train Loss: 0.0812, Train Acc: 0.9497, Test Acc: 0.9091, \n",
      "Epoch: 162, Train Loss: 0.0940, Train Acc: 0.9598, Test Acc: 0.9091, \n",
      "Epoch: 163, Train Loss: 0.1031, Train Acc: 0.9497, Test Acc: 0.9091, \n",
      "Epoch: 164, Train Loss: 0.1195, Train Acc: 0.9447, Test Acc: 0.9091, \n",
      "Epoch: 165, Train Loss: 0.0868, Train Acc: 0.9548, Test Acc: 0.9091, \n",
      "Epoch: 166, Train Loss: 0.1089, Train Acc: 0.9548, Test Acc: 0.9545, \n",
      "Epoch: 167, Train Loss: 0.0854, Train Acc: 0.9548, Test Acc: 0.9091, \n",
      "Epoch: 168, Train Loss: 0.0846, Train Acc: 0.9548, Test Acc: 0.9091, \n",
      "Epoch: 169, Train Loss: 0.1221, Train Acc: 0.9548, Test Acc: 0.9545, \n",
      "Epoch: 170, Train Loss: 0.0877, Train Acc: 0.9497, Test Acc: 0.9091, \n",
      "Epoch: 171, Train Loss: 0.1048, Train Acc: 0.9598, Test Acc: 0.9091, \n",
      "Epoch: 172, Train Loss: 0.0796, Train Acc: 0.9548, Test Acc: 0.9091, \n",
      "Epoch: 173, Train Loss: 0.1006, Train Acc: 0.9648, Test Acc: 0.9091, \n",
      "Epoch: 174, Train Loss: 0.0795, Train Acc: 0.9548, Test Acc: 0.8636, \n",
      "Epoch: 175, Train Loss: 0.1012, Train Acc: 0.9548, Test Acc: 0.9091, \n",
      "Epoch: 176, Train Loss: 0.0964, Train Acc: 0.9598, Test Acc: 0.9091, \n",
      "Epoch: 177, Train Loss: 0.1128, Train Acc: 0.9548, Test Acc: 0.9091, \n",
      "Epoch: 178, Train Loss: 0.0792, Train Acc: 0.9548, Test Acc: 0.9091, \n",
      "Epoch: 179, Train Loss: 0.1002, Train Acc: 0.9598, Test Acc: 0.9091, \n",
      "Epoch: 180, Train Loss: 0.0843, Train Acc: 0.9548, Test Acc: 0.9545, \n",
      "Epoch: 181, Train Loss: 0.1082, Train Acc: 0.9548, Test Acc: 0.9091, \n",
      "Epoch: 182, Train Loss: 0.1013, Train Acc: 0.9548, Test Acc: 0.8636, \n",
      "Epoch: 183, Train Loss: 0.0867, Train Acc: 0.9598, Test Acc: 0.9091, \n",
      "Epoch: 184, Train Loss: 0.0924, Train Acc: 0.9548, Test Acc: 0.9091, \n",
      "Epoch: 185, Train Loss: 0.0803, Train Acc: 0.9548, Test Acc: 0.9545, \n",
      "Epoch: 186, Train Loss: 0.0880, Train Acc: 0.9497, Test Acc: 0.9091, \n",
      "Epoch: 187, Train Loss: 0.1075, Train Acc: 0.9548, Test Acc: 0.8636, \n",
      "Epoch: 188, Train Loss: 0.0756, Train Acc: 0.9598, Test Acc: 0.8636, \n",
      "Epoch: 189, Train Loss: 0.1120, Train Acc: 0.9548, Test Acc: 0.8636, \n",
      "Epoch: 190, Train Loss: 0.0911, Train Acc: 0.9548, Test Acc: 0.8636, \n",
      "Epoch: 191, Train Loss: 0.0728, Train Acc: 0.9749, Test Acc: 0.9091, \n",
      "Epoch: 192, Train Loss: 0.0693, Train Acc: 0.9497, Test Acc: 0.8636, \n",
      "Epoch: 193, Train Loss: 0.1052, Train Acc: 0.9598, Test Acc: 0.9091, \n",
      "Epoch: 194, Train Loss: 0.0909, Train Acc: 0.9598, Test Acc: 0.9091, \n",
      "Epoch: 195, Train Loss: 0.0802, Train Acc: 0.9598, Test Acc: 0.9545, \n",
      "Epoch: 196, Train Loss: 0.0731, Train Acc: 0.9548, Test Acc: 0.9091, \n",
      "Epoch: 197, Train Loss: 0.0820, Train Acc: 0.9598, Test Acc: 0.9545, \n",
      "Epoch: 198, Train Loss: 0.0767, Train Acc: 0.9648, Test Acc: 0.9091, \n",
      "Epoch: 199, Train Loss: 0.1005, Train Acc: 0.9548, Test Acc: 0.9091, \n",
      "Epoch: 200, Train Loss: 0.0744, Train Acc: 0.9548, Test Acc: 0.9091, \n",
      "Epoch: 201, Train Loss: 0.0797, Train Acc: 0.9598, Test Acc: 0.9091, \n",
      "Epoch: 202, Train Loss: 0.0736, Train Acc: 0.9749, Test Acc: 0.9091, \n",
      "Epoch: 203, Train Loss: 0.0732, Train Acc: 0.9548, Test Acc: 0.9091, \n",
      "Epoch: 204, Train Loss: 0.0877, Train Acc: 0.9648, Test Acc: 0.9091, \n",
      "Epoch: 205, Train Loss: 0.0857, Train Acc: 0.9598, Test Acc: 0.9091, \n",
      "Epoch: 206, Train Loss: 0.0733, Train Acc: 0.9799, Test Acc: 0.9091, \n",
      "Epoch: 207, Train Loss: 0.0875, Train Acc: 0.9698, Test Acc: 0.9091, \n",
      "Epoch: 208, Train Loss: 0.1010, Train Acc: 0.9497, Test Acc: 0.8636, \n",
      "Epoch: 209, Train Loss: 0.0771, Train Acc: 0.9598, Test Acc: 0.9091, \n",
      "Epoch: 210, Train Loss: 0.0805, Train Acc: 0.9799, Test Acc: 0.9091, \n",
      "Epoch: 211, Train Loss: 0.0922, Train Acc: 0.9698, Test Acc: 0.9091, \n",
      "Epoch: 212, Train Loss: 0.0688, Train Acc: 0.9698, Test Acc: 0.9091, \n",
      "Epoch: 213, Train Loss: 0.0800, Train Acc: 0.9799, Test Acc: 0.9091, \n",
      "Epoch: 214, Train Loss: 0.0755, Train Acc: 0.9749, Test Acc: 0.9091, \n",
      "Epoch: 215, Train Loss: 0.0887, Train Acc: 0.9648, Test Acc: 0.8636, \n",
      "Epoch: 216, Train Loss: 0.0734, Train Acc: 0.9749, Test Acc: 0.9091, \n",
      "Epoch: 217, Train Loss: 0.0879, Train Acc: 0.9749, Test Acc: 0.9091, \n",
      "Epoch: 218, Train Loss: 0.0695, Train Acc: 0.9749, Test Acc: 0.9091, \n",
      "Epoch: 219, Train Loss: 0.0769, Train Acc: 0.9598, Test Acc: 0.8636, \n",
      "Epoch: 220, Train Loss: 0.0729, Train Acc: 0.9698, Test Acc: 0.9091, \n",
      "Epoch: 221, Train Loss: 0.0704, Train Acc: 0.9598, Test Acc: 0.9091, \n",
      "Epoch: 222, Train Loss: 0.0826, Train Acc: 0.9698, Test Acc: 0.9091, \n",
      "Epoch: 223, Train Loss: 0.0844, Train Acc: 0.9749, Test Acc: 0.9091, \n",
      "Epoch: 224, Train Loss: 0.0704, Train Acc: 0.9497, Test Acc: 0.8636, \n",
      "Epoch: 225, Train Loss: 0.0662, Train Acc: 0.9648, Test Acc: 0.9091, \n",
      "Epoch: 226, Train Loss: 0.0941, Train Acc: 0.9698, Test Acc: 0.9091, \n",
      "Epoch: 227, Train Loss: 0.0698, Train Acc: 0.9648, Test Acc: 0.9091, \n",
      "Epoch: 228, Train Loss: 0.0718, Train Acc: 0.9648, Test Acc: 0.9091, \n",
      "Epoch: 229, Train Loss: 0.0609, Train Acc: 0.9648, Test Acc: 0.9091, \n",
      "Epoch: 230, Train Loss: 0.0661, Train Acc: 0.9648, Test Acc: 0.9091, \n",
      "Epoch: 231, Train Loss: 0.0620, Train Acc: 0.9799, Test Acc: 0.9091, \n",
      "Epoch: 232, Train Loss: 0.0638, Train Acc: 0.9648, Test Acc: 0.9091, \n",
      "Epoch: 233, Train Loss: 0.0636, Train Acc: 0.9698, Test Acc: 0.9091, \n",
      "Epoch: 234, Train Loss: 0.0685, Train Acc: 0.9648, Test Acc: 0.9091, \n",
      "Epoch: 235, Train Loss: 0.0854, Train Acc: 0.9799, Test Acc: 0.9091, \n",
      "Epoch: 236, Train Loss: 0.0688, Train Acc: 0.9749, Test Acc: 0.9091, \n",
      "Epoch: 237, Train Loss: 0.0616, Train Acc: 0.9698, Test Acc: 0.9091, \n",
      "Epoch: 238, Train Loss: 0.0706, Train Acc: 0.9749, Test Acc: 0.9091, \n",
      "Epoch: 239, Train Loss: 0.0572, Train Acc: 0.9749, Test Acc: 0.9091, \n",
      "Epoch: 240, Train Loss: 0.0624, Train Acc: 0.9698, Test Acc: 0.9091, \n",
      "Epoch: 241, Train Loss: 0.1026, Train Acc: 0.9799, Test Acc: 0.9091, \n",
      "Epoch: 242, Train Loss: 0.0636, Train Acc: 0.9749, Test Acc: 0.9091, \n",
      "Epoch: 243, Train Loss: 0.0684, Train Acc: 0.9648, Test Acc: 0.9091, \n",
      "Epoch: 244, Train Loss: 0.0654, Train Acc: 0.9799, Test Acc: 0.9091, \n",
      "Epoch: 245, Train Loss: 0.0798, Train Acc: 0.9548, Test Acc: 0.9091, \n",
      "Epoch: 246, Train Loss: 0.0725, Train Acc: 0.9749, Test Acc: 0.9091, \n",
      "Epoch: 247, Train Loss: 0.0623, Train Acc: 0.9698, Test Acc: 0.9091, \n",
      "Epoch: 248, Train Loss: 0.0583, Train Acc: 0.9648, Test Acc: 0.8636, \n",
      "Epoch: 249, Train Loss: 0.0602, Train Acc: 0.9799, Test Acc: 0.9091, \n",
      "Epoch: 250, Train Loss: 0.0696, Train Acc: 0.9698, Test Acc: 0.9091, \n",
      "Epoch: 251, Train Loss: 0.0729, Train Acc: 0.9749, Test Acc: 0.9091, \n",
      "Epoch: 252, Train Loss: 0.0550, Train Acc: 0.9749, Test Acc: 0.9091, \n",
      "Epoch: 253, Train Loss: 0.0729, Train Acc: 0.9799, Test Acc: 0.9091, \n",
      "Epoch: 254, Train Loss: 0.0662, Train Acc: 0.9799, Test Acc: 0.8636, \n",
      "Epoch: 255, Train Loss: 0.0701, Train Acc: 0.9749, Test Acc: 0.9091, \n"
     ]
    }
   ],
   "source": [
    "for epoch in trange(256):\n",
    "    train_loss = msrc9_train.model_fit(msrc9_model, lr=0.001)\n",
    "    train_metrics = msrc9_train.model_evaluate(msrc9_model)\n",
    "    val_metrics = msrc9_val.model_evaluate(msrc9_model)\n",
    "    print(f\"Epoch: {epoch:03d}, \"\n",
    "          f\"Train Loss: {train_loss:.4f}, \"\n",
    "          f\"Train Acc: {train_metrics['acc']:.4f}, \"\n",
    "          f\"Test Acc: {val_metrics['acc']:.4f}, \"\n",
    "        #   f\"Train F1: {train_metrics['f1']}, \"\n",
    "        #   f\"Test F1: {val_metrics['f1']}\"\n",
    "        )\n"
   ]
  },
  {
   "cell_type": "code",
   "execution_count": 8,
   "id": "0b34deca",
   "metadata": {},
   "outputs": [],
   "source": [
    "torch.save(msrc9_model.state_dict(), f\"ckpts/msrc_9.pt\")"
   ]
  },
  {
   "cell_type": "code",
   "execution_count": null,
   "id": "b2096894",
   "metadata": {},
   "outputs": [],
   "source": [
    "msrc9_model.load_state_dict(torch.load('ckpts/msrc_9.pt'))"
   ]
  },
  {
   "cell_type": "code",
   "execution_count": null,
   "id": "d7fdd58d",
   "metadata": {},
   "outputs": [],
   "source": []
  }
 ],
 "metadata": {
  "kernelspec": {
   "display_name": "gnnboundary",
   "language": "python",
   "name": "python3"
  },
  "language_info": {
   "codemirror_mode": {
    "name": "ipython",
    "version": 3
   },
   "file_extension": ".py",
   "mimetype": "text/x-python",
   "name": "python",
   "nbconvert_exporter": "python",
   "pygments_lexer": "ipython3",
   "version": "3.11.11"
  }
 },
 "nbformat": 4,
 "nbformat_minor": 5
}
