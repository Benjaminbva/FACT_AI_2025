{
 "cells": [
  {
   "cell_type": "code",
   "execution_count": 1,
   "id": "8c2caaab483d0a24",
   "metadata": {
    "ExecuteTime": {
     "end_time": "2024-04-21T13:40:03.841745Z",
     "start_time": "2024-04-21T13:40:03.829069Z"
    },
    "collapsed": false
   },
   "outputs": [],
   "source": [
    "%load_ext autoreload\n",
    "%autoreload 2"
   ]
  },
  {
   "cell_type": "code",
   "execution_count": 2,
   "id": "8afbbc605bb13730",
   "metadata": {
    "ExecuteTime": {
     "end_time": "2024-04-21T13:40:06.165544Z",
     "start_time": "2024-04-21T13:40:04.863950Z"
    },
    "collapsed": false
   },
   "outputs": [],
   "source": [
    "import torch\n",
    "from tqdm.auto import trange"
   ]
  },
  {
   "cell_type": "code",
   "execution_count": 3,
   "id": "97e983f9da03809c",
   "metadata": {
    "ExecuteTime": {
     "end_time": "2024-04-21T13:40:09.494587Z",
     "start_time": "2024-04-21T13:40:07.107698Z"
    }
   },
   "outputs": [],
   "source": [
    "from gnnboundary import *\n",
    "from gnnboundary.datasets.msrc_dataset import MSRCDataset\n",
    "from lib.gcn_classifier import MultiGCNClassifier"
   ]
  },
  {
   "cell_type": "markdown",
   "id": "2364be7c0ee37620",
   "metadata": {
    "collapsed": false
   },
   "source": [
    "# Motif"
   ]
  },
  {
   "cell_type": "code",
   "execution_count": 5,
   "id": "85a99f52ad4d19a3",
   "metadata": {
    "collapsed": false
   },
   "outputs": [],
   "source": [
    "motif = MotifDataset(seed=12345)\n",
    "motif_train, motif_val = motif.train_test_split(k=10)\n",
    "motif_model = GCNClassifier(node_features=len(motif.NODE_CLS),\n",
    "                            num_classes=len(motif.GRAPH_CLS),\n",
    "                            hidden_channels=6,\n",
    "                            num_layers=3)"
   ]
  },
  {
   "cell_type": "code",
   "execution_count": null,
   "id": "77849acc80fe593e",
   "metadata": {
    "collapsed": false
   },
   "outputs": [],
   "source": [
    "for epoch in trange(128):\n",
    "    train_loss = motif_train.model_fit(motif_model, lr=0.001)\n",
    "    train_metrics = motif_train.model_evaluate(motif_model)\n",
    "    val_metrics = motif_val.model_evaluate(motif_model)\n",
    "    print(f\"Epoch: {epoch:03d}, \"\n",
    "          f\"Train Loss: {train_loss:.4f}, \"\n",
    "          f\"Train Acc: {train_metrics['acc']:.4f}, \"\n",
    "          f\"Test Acc: {val_metrics['acc']:.4f}, \"\n",
    "          f\"Train F1: {train_metrics['f1']}, \"\n",
    "          f\"Test F1: {val_metrics['f1']}\")"
   ]
  },
  {
   "cell_type": "code",
   "execution_count": null,
   "id": "b2a5adde85f03d0a",
   "metadata": {
    "collapsed": false
   },
   "outputs": [],
   "source": [
    "# torch.save(motif_model.state_dict(), 'ckpts/motif.pt')"
   ]
  },
  {
   "cell_type": "code",
   "execution_count": null,
   "id": "84bc57716bc8fbc4",
   "metadata": {},
   "outputs": [],
   "source": [
    "motif_model.load_state_dict(torch.load('ckpts/motif.pt'))"
   ]
  },
  {
   "cell_type": "markdown",
   "id": "a4004532c1bb4288",
   "metadata": {
    "collapsed": false
   },
   "source": [
    "# ENZYMES"
   ]
  },
  {
   "cell_type": "code",
   "execution_count": 4,
   "id": "d021848ae3c9d3f9",
   "metadata": {
    "ExecuteTime": {
     "end_time": "2024-04-21T13:40:14.515165Z",
     "start_time": "2024-04-21T13:40:14.373827Z"
    },
    "collapsed": false
   },
   "outputs": [],
   "source": [
    "enzymes = ENZYMESDataset(seed=12345)\n",
    "enzymes_train, enzymes_val = enzymes.train_test_split(k=10)\n",
    "enzymes_model = GCNClassifier(node_features=len(enzymes.NODE_CLS),\n",
    "                              num_classes=len(enzymes.GRAPH_CLS),\n",
    "                              hidden_channels=32,\n",
    "                              num_layers=3)"
   ]
  },
  {
   "cell_type": "code",
   "execution_count": null,
   "id": "75b6d2b5b5eb7a65",
   "metadata": {
    "ExecuteTime": {
     "end_time": "2024-04-21T13:40:15.373625Z",
     "start_time": "2024-04-21T13:40:15.338801Z"
    },
    "collapsed": false
   },
   "outputs": [],
   "source": [
    "# enzymes_model.load_state_dict(torch.load('ckpts/enzymes.pt'))"
   ]
  },
  {
   "cell_type": "code",
   "execution_count": null,
   "id": "f8969c7da8ee7096",
   "metadata": {
    "ExecuteTime": {
     "end_time": "2024-04-21T13:55:45.286601Z",
     "start_time": "2024-04-21T13:40:42.226062Z"
    }
   },
   "outputs": [],
   "source": [
    "for epoch in trange(4096):\n",
    "    train_loss = enzymes_train.model_fit(enzymes_model, lr=0.0001)\n",
    "    train_metrics = enzymes_train.model_evaluate(enzymes_model)\n",
    "    val_metrics = enzymes_val.model_evaluate(enzymes_model)\n",
    "    print(f\"Epoch: {epoch:03d}, \"\n",
    "          f\"Train Loss: {train_loss:.4f}, \"\n",
    "          f\"Train Acc: {train_metrics['acc']:.4f}, \"\n",
    "          f\"Test Acc: {val_metrics['acc']:.4f}, \"\n",
    "          f\"Train F1: {train_metrics['f1']}, \"\n",
    "          f\"Test F1: {val_metrics['f1']}\")"
   ]
  },
  {
   "cell_type": "code",
   "execution_count": 8,
   "id": "16ab2a56b86ae8a9",
   "metadata": {
    "ExecuteTime": {
     "end_time": "2024-04-21T14:06:36.427566Z",
     "start_time": "2024-04-21T14:06:36.272892Z"
    }
   },
   "outputs": [],
   "source": [
    "torch.save(enzymes_model.state_dict(), f\"ckpts/enzymes.pt\")"
   ]
  },
  {
   "cell_type": "markdown",
   "id": "2395a28099a8dcb9",
   "metadata": {},
   "source": [
    "# COLLAB"
   ]
  },
  {
   "cell_type": "code",
   "execution_count": 4,
   "id": "2210c5e4f48fec89",
   "metadata": {
    "collapsed": false
   },
   "outputs": [],
   "source": [
    "# device = torch.device('cuda:0' if torch.cuda.is_available() else 'cpu')\n",
    "device = \"cpu\"\n",
    "\n",
    "collab = CollabDataset(seed=12345).to(device)\n",
    "collab_train, collab_val = collab.train_test_split(k=10)\n",
    "collab_model = GCNClassifier(node_features=len(collab.NODE_CLS),\n",
    "                             num_classes=len(collab.GRAPH_CLS),\n",
    "                             hidden_channels=64,\n",
    "                             num_layers=5).to(device)"
   ]
  },
  {
   "cell_type": "code",
   "execution_count": null,
   "id": "5e26c08ec23c9fe4",
   "metadata": {},
   "outputs": [],
   "source": [
    "for epoch in trange(1024):\n",
    "    train_loss = collab_train.model_fit(collab_model, lr=0.001)\n",
    "    train_metrics = collab_train.model_evaluate(collab_model)\n",
    "    val_metrics = collab_val.model_evaluate(collab_model)\n",
    "    print(f\"Epoch: {epoch:03d}, \"\n",
    "          f\"Train Loss: {train_loss:.4f}, \"\n",
    "          f\"Train Acc: {train_metrics['acc']:.4f}, \"\n",
    "          f\"Test Acc: {val_metrics['acc']:.4f}, \"\n",
    "          f\"Train F1: {train_metrics['f1']}, \"\n",
    "          f\"Test F1: {val_metrics['f1']}\")"
   ]
  },
  {
   "cell_type": "code",
   "execution_count": null,
   "id": "4e5b2a3fba9d8b8",
   "metadata": {},
   "outputs": [],
   "source": [
    "# torch.save(collab_model.state_dict(), f\"ckpts/collab.pt\")"
   ]
  },
  {
   "cell_type": "code",
   "execution_count": null,
   "id": "fadb9cc425025692",
   "metadata": {},
   "outputs": [],
   "source": [
    "collab_model.load_state_dict(torch.load('ckpts/collab.pt'))"
   ]
  },
  {
   "cell_type": "markdown",
   "id": "d8df72be",
   "metadata": {},
   "source": [
    "# MSRC_9"
   ]
  },
  {
   "cell_type": "code",
   "execution_count": 4,
   "id": "d699936d9d401a27",
   "metadata": {},
   "outputs": [
    {
     "name": "stdout",
     "output_type": "stream",
     "text": [
      "cuda:0\n"
     ]
    },
    {
     "name": "stderr",
     "output_type": "stream",
     "text": [
      "Using existing file MSRC_9.zip\n",
      "Extracting data/MSRC_9/raw/MSRC_9.zip\n"
     ]
    }
   ],
   "source": [
    "import torch\n",
    "from tqdm.auto import trange\n",
    "from gnnboundary import *\n",
    "from gnnboundary.datasets.msrc_dataset import MSRCDataset\n",
    "from lib.gcn_classifier import MultiGCNClassifier\n",
    "\n",
    "device = torch.device('cuda:0' if torch.cuda.is_available() else 'cpu')\n",
    "\n",
    "msrc9 = MSRCDataset(seed=12345).to(device)\n",
    "msrc9_train, msrc9_val = msrc9.train_test_split(k=10)\n",
    "msrc9_model = MultiGCNClassifier(node_features=len(msrc9.NODE_CLS),\n",
    "                             num_classes=len(msrc9.GRAPH_CLS),\n",
    "                             hidden_channels=16,\n",
    "                             num_layers=5).to(device)\n",
    "\n",
    "print(device)"
   ]
  },
  {
   "cell_type": "code",
   "execution_count": null,
   "id": "85687efb",
   "metadata": {},
   "outputs": [
    {
     "data": {
      "application/vnd.jupyter.widget-view+json": {
       "model_id": "30ec946398d8425294c294c209f0a9bf",
       "version_major": 2,
       "version_minor": 0
      },
      "text/plain": [
       "  0%|          | 0/128 [00:00<?, ?it/s]"
      ]
     },
     "metadata": {},
     "output_type": "display_data"
    },
    {
     "name": "stderr",
     "output_type": "stream",
     "text": [
      "/home/gilian/miniconda3/envs/gnnboundary/lib/python3.11/site-packages/torch_geometric/deprecation.py:26: UserWarning: 'data.DataLoader' is deprecated, use 'loader.DataLoader' instead\n",
      "  warnings.warn(out)\n"
     ]
    },
    {
     "name": "stdout",
     "output_type": "stream",
     "text": [
      "Epoch: 000, Train Loss: 2.0326, Train Acc: 0.2412, Test Acc: 0.1364, \n",
      "Epoch: 001, Train Loss: 1.9460, Train Acc: 0.2513, Test Acc: 0.2273, \n",
      "Epoch: 002, Train Loss: 1.8849, Train Acc: 0.2613, Test Acc: 0.2273, \n",
      "Epoch: 003, Train Loss: 1.8052, Train Acc: 0.2563, Test Acc: 0.2273, \n",
      "Epoch: 004, Train Loss: 1.7525, Train Acc: 0.3216, Test Acc: 0.2727, \n",
      "Epoch: 005, Train Loss: 1.6774, Train Acc: 0.3367, Test Acc: 0.2727, \n",
      "Epoch: 006, Train Loss: 1.6078, Train Acc: 0.3970, Test Acc: 0.3636, \n",
      "Epoch: 007, Train Loss: 1.5643, Train Acc: 0.5176, Test Acc: 0.5000, \n",
      "Epoch: 008, Train Loss: 1.4343, Train Acc: 0.5377, Test Acc: 0.5000, \n",
      "Epoch: 009, Train Loss: 1.4287, Train Acc: 0.6382, Test Acc: 0.5000, \n",
      "Epoch: 010, Train Loss: 1.3199, Train Acc: 0.6533, Test Acc: 0.5455, \n",
      "Epoch: 011, Train Loss: 1.2733, Train Acc: 0.6482, Test Acc: 0.5000, \n",
      "Epoch: 012, Train Loss: 1.1794, Train Acc: 0.6734, Test Acc: 0.5909, \n",
      "Epoch: 013, Train Loss: 1.0839, Train Acc: 0.6784, Test Acc: 0.5000, \n",
      "Epoch: 014, Train Loss: 1.0291, Train Acc: 0.7085, Test Acc: 0.7273, \n",
      "Epoch: 015, Train Loss: 0.9517, Train Acc: 0.7638, Test Acc: 0.6818, \n",
      "Epoch: 016, Train Loss: 0.8823, Train Acc: 0.7739, Test Acc: 0.7273, \n",
      "Epoch: 017, Train Loss: 0.8007, Train Acc: 0.7688, Test Acc: 0.7273, \n",
      "Epoch: 018, Train Loss: 0.7182, Train Acc: 0.8191, Test Acc: 0.7727, \n",
      "Epoch: 019, Train Loss: 0.6206, Train Acc: 0.8593, Test Acc: 0.7273, \n",
      "Epoch: 020, Train Loss: 0.5993, Train Acc: 0.8643, Test Acc: 0.7727, \n",
      "Epoch: 021, Train Loss: 0.6134, Train Acc: 0.8643, Test Acc: 0.8182, \n"
     ]
    }
   ],
   "source": [
    "for epoch in trange(256):\n",
    "    train_loss = msrc9_train.model_fit(msrc9_model, lr=0.001)\n",
    "    train_metrics = msrc9_train.model_evaluate(msrc9_model)\n",
    "    val_metrics = msrc9_val.model_evaluate(msrc9_model)\n",
    "    print(f\"Epoch: {epoch:03d}, \"\n",
    "          f\"Train Loss: {train_loss:.4f}, \"\n",
    "          f\"Train Acc: {train_metrics['acc']:.4f}, \"\n",
    "          f\"Test Acc: {val_metrics['acc']:.4f}, \"\n",
    "        #   f\"Train F1: {train_metrics['f1']}, \"\n",
    "        #   f\"Test F1: {val_metrics['f1']}\"\n",
    "        )\n"
   ]
  },
  {
   "cell_type": "code",
   "execution_count": 3,
   "id": "0b34deca",
   "metadata": {},
   "outputs": [],
   "source": [
    "torch.save(msrc9_model.state_dict(), f\"ckpts/msrc_9_cpu.pt\")"
   ]
  },
  {
   "cell_type": "code",
   "execution_count": null,
   "id": "b2096894",
   "metadata": {},
   "outputs": [],
   "source": [
    "msrc9_model.load_state_dict(torch.load('ckpts/msrc_9.pt'))"
   ]
  },
  {
   "cell_type": "code",
   "execution_count": null,
   "id": "d7fdd58d",
   "metadata": {},
   "outputs": [],
   "source": []
  }
 ],
 "metadata": {
  "kernelspec": {
   "display_name": "gnnboundary",
   "language": "python",
   "name": "python3"
  },
  "language_info": {
   "codemirror_mode": {
    "name": "ipython",
    "version": 3
   },
   "file_extension": ".py",
   "mimetype": "text/x-python",
   "name": "python",
   "nbconvert_exporter": "python",
   "pygments_lexer": "ipython3",
   "version": "3.11.11"
  }
 },
 "nbformat": 4,
 "nbformat_minor": 5
}
